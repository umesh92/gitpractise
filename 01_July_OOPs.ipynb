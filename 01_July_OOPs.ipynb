{
 "cells": [
  {
   "cell_type": "markdown",
   "id": "f2f63400",
   "metadata": {},
   "source": [
    "# Object-Oriented Programming (OOP) Assignment"
   ]
  },
  {
   "cell_type": "markdown",
   "id": "b1589d13",
   "metadata": {},
   "source": [
    "## 1. What is the primary goal of Object-Oriented Programming (OOP)?"
   ]
  },
  {
   "cell_type": "markdown",
   "id": "808a2d4e",
   "metadata": {},
   "source": [
    "\n",
    "The primary goal of Object-Oriented Programming (OOP) is to model real-world entities and their interactions using objects. OOP promotes principles such as encapsulation, abstraction, inheritance, and polymorphism to improve code reusability, scalability, and maintainability.\n"
   ]
  },
  {
   "cell_type": "markdown",
   "id": "cc1a830d",
   "metadata": {},
   "source": [
    "## 2. What is an object in Python?"
   ]
  },
  {
   "cell_type": "markdown",
   "id": "63e07710",
   "metadata": {},
   "source": [
    "\n",
    "An object in Python is an instance of a class that encapsulates data (attributes) and behaviors (methods). Objects allow for modular programming and reuse of code.\n"
   ]
  },
  {
   "cell_type": "markdown",
   "id": "25d8e31a",
   "metadata": {},
   "source": [
    "## 3. What is a class in Python?"
   ]
  },
  {
   "cell_type": "markdown",
   "id": "2f451429",
   "metadata": {},
   "source": [
    "\n",
    "A class in Python is a blueprint for creating objects. It defines attributes and methods that describe the behavior and state of the objects created from it.\n"
   ]
  },
  {
   "cell_type": "markdown",
   "id": "948360ff",
   "metadata": {},
   "source": [
    "## 4. What are attributes and methods in a class?"
   ]
  },
  {
   "cell_type": "markdown",
   "id": "f6aeb11b",
   "metadata": {},
   "source": [
    "\n",
    "- **Attributes** are variables that store the state of an object.\n",
    "- **Methods** are functions defined inside a class that describe the behavior of an object.\n"
   ]
  },
  {
   "cell_type": "markdown",
   "id": "3ac92e12",
   "metadata": {},
   "source": [
    "## 5. What is the difference between class variables and instance variables in Python?"
   ]
  },
  {
   "cell_type": "markdown",
   "id": "76f89a05",
   "metadata": {},
   "source": [
    "\n",
    "- **Class Variables:** Shared among all instances of the class and defined within the class but outside any instance methods.\n",
    "- **Instance Variables:** Unique to each instance of a class and defined inside methods using `self`.\n"
   ]
  },
  {
   "cell_type": "markdown",
   "id": "a2725dc4",
   "metadata": {},
   "source": [
    "## 6. What is the purpose of the self parameter in Python class methods?"
   ]
  },
  {
   "cell_type": "markdown",
   "id": "057ca94c",
   "metadata": {},
   "source": [
    "\n",
    "The `self` parameter represents the instance of the class and allows access to attributes and methods within the class.\n"
   ]
  },
  {
   "cell_type": "markdown",
   "id": "cca11af0",
   "metadata": {},
   "source": [
    "## 7. Design a 'Book' class with OOP principles"
   ]
  },
  {
   "cell_type": "code",
   "execution_count": null,
   "id": "3924f7d1",
   "metadata": {},
   "outputs": [],
   "source": [
    "\n",
    "class Book:\n",
    "    def __init__(self, title, author, isbn, publication_year, available_copies):\n",
    "        self.title = title\n",
    "        self.author = author\n",
    "        self.isbn = isbn\n",
    "        self.publication_year = publication_year\n",
    "        self.available_copies = available_copies\n",
    "\n",
    "    def check_out(self):\n",
    "        if self.available_copies > 0:\n",
    "            self.available_copies -= 1\n",
    "            print(f\"Book '{self.title}' checked out.\")\n",
    "        else:\n",
    "            print(\"No copies available.\")\n",
    "\n",
    "    def return_book(self):\n",
    "        self.available_copies += 1\n",
    "        print(f\"Book '{self.title}' returned.\")\n",
    "\n",
    "    def display_book_info(self):\n",
    "        print(f\"Title: {self.title}, Author: {self.author}, ISBN: {self.isbn}, Year: {self.publication_year}, Available Copies: {self.available_copies}\")\n"
   ]
  },
  {
   "cell_type": "markdown",
   "id": "c73f49a3",
   "metadata": {},
   "source": [
    "## 8. Design a 'Ticket' class with OOP principles"
   ]
  },
  {
   "cell_type": "code",
   "execution_count": null,
   "id": "d9b997b7",
   "metadata": {},
   "outputs": [],
   "source": [
    "\n",
    "class Ticket:\n",
    "    def __init__(self, ticket_id, event_name, event_date, venue, seat_number, price):\n",
    "        self.ticket_id = ticket_id\n",
    "        self.event_name = event_name\n",
    "        self.event_date = event_date\n",
    "        self.venue = venue\n",
    "        self.seat_number = seat_number\n",
    "        self.price = price\n",
    "        self.is_reserved = False\n",
    "\n",
    "    def reserve_ticket(self):\n",
    "        if not self.is_reserved:\n",
    "            self.is_reserved = True\n",
    "            print(f\"Ticket {self.ticket_id} reserved.\")\n",
    "        else:\n",
    "            print(\"Ticket already reserved.\")\n",
    "\n",
    "    def cancel_reservation(self):\n",
    "        if self.is_reserved:\n",
    "            self.is_reserved = False\n",
    "            print(f\"Reservation for Ticket {self.ticket_id} canceled.\")\n",
    "        else:\n",
    "            print(\"Ticket was not reserved.\")\n",
    "\n",
    "    def display_ticket_info(self):\n",
    "        print(f\"Ticket ID: {self.ticket_id}, Event: {self.event_name}, Date: {self.event_date}, Venue: {self.venue}, Seat: {self.seat_number}, Price: {self.price}, Reserved: {self.is_reserved}\")\n"
   ]
  },
  {
   "cell_type": "markdown",
   "id": "1e5e32c6",
   "metadata": {},
   "source": [
    "## 9. Design a 'ShoppingCart' class with OOP principles"
   ]
  },
  {
   "cell_type": "code",
   "execution_count": null,
   "id": "4029b030",
   "metadata": {},
   "outputs": [],
   "source": [
    "\n",
    "class ShoppingCart:\n",
    "    def __init__(self):\n",
    "        self.items = []\n",
    "\n",
    "    def add_item(self, item):\n",
    "        self.items.append(item)\n",
    "        print(f\"Item '{item}' added to cart.\")\n",
    "\n",
    "    def remove_item(self, item):\n",
    "        if item in self.items:\n",
    "            self.items.remove(item)\n",
    "            print(f\"Item '{item}' removed from cart.\")\n",
    "        else:\n",
    "            print(\"Item not found in cart.\")\n",
    "\n",
    "    def view_cart(self):\n",
    "        print(\"Shopping Cart Items:\", self.items)\n",
    "\n",
    "    def clear_cart(self):\n",
    "        self.items = []\n",
    "        print(\"Shopping cart cleared.\")\n"
   ]
  },
  {
   "cell_type": "markdown",
   "id": "dcec2d9c",
   "metadata": {},
   "source": [
    "## 10. Design a 'Student' class with OOP principles"
   ]
  },
  {
   "cell_type": "code",
   "execution_count": null,
   "id": "cdd7ed65",
   "metadata": {},
   "outputs": [],
   "source": [
    "\n",
    "class Student:\n",
    "    def __init__(self, name, age, grade, student_id):\n",
    "        self.name = name\n",
    "        self.age = age\n",
    "        self.grade = grade\n",
    "        self.student_id = student_id\n",
    "        self.attendance = {}\n",
    "\n",
    "    def update_attendance(self, date, status):\n",
    "        self.attendance[date] = status\n",
    "\n",
    "    def get_attendance(self):\n",
    "        return self.attendance\n",
    "\n",
    "    def get_average_attendance(self):\n",
    "        if not self.attendance:\n",
    "            return 0\n",
    "        present_days = sum(1 for status in self.attendance.values() if status == 'present')\n",
    "        return (present_days / len(self.attendance)) * 100\n"
   ]
  }
 ],
 "metadata": {},
 "nbformat": 4,
 "nbformat_minor": 5
}
